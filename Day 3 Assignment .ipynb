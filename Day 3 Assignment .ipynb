{
 "cells": [
  {
   "cell_type": "code",
   "execution_count": 7,
   "metadata": {},
   "outputs": [
    {
     "name": "stdout",
     "output_type": "stream",
     "text": [
      " I am a Pilot\n",
      "Enter your Current Altitude -1000\n",
      "safe to land\n"
     ]
    }
   ],
   "source": [
    "print(\" I am a Pilot\")\n",
    "Current_altitude = input(\"Enter your Current Altitude -\")\n",
    "Current_altitude = int(Current_altitude)\n",
    "if Current_altitude > 1000:\n",
    "    print(\"more than 1000ft\")\n",
    "else:\n",
    "    print(\"safe to land\")"
   ]
  },
  {
   "cell_type": "code",
   "execution_count": 6,
   "metadata": {},
   "outputs": [
    {
     "name": "stdout",
     "output_type": "stream",
     "text": [
      " I am a Pilot\n",
      "Enter your Current Altitude -6500\n",
      "Turn Around\n"
     ]
    }
   ],
   "source": [
    "print(\" I am a Pilot\")\n",
    "Current_altitude = input(\"Enter your Current Altitude -\")\n",
    "Current_altitude = int(Current_altitude)\n",
    "if Current_altitude < 5000:\n",
    "    print(\"Bring it Down to 1000ft\")\n",
    "else:\n",
    "    print(\"Turn Around\")\n"
   ]
  },
  {
   "cell_type": "code",
   "execution_count": 5,
   "metadata": {},
   "outputs": [
    {
     "name": "stdout",
     "output_type": "stream",
     "text": [
      " I am a Pilot\n",
      "Enter your Current Altitude -4500\n",
      "Bring it Down to 1000ft\n"
     ]
    }
   ],
   "source": [
    "print(\" I am a Pilot\")\n",
    "Current_altitude = input(\"Enter your Current Altitude -\")\n",
    "Current_altitude = int(Current_altitude)\n",
    "if Current_altitude < 5000:\n",
    "    print(\"Bring it Down to 1000ft\")\n",
    "else:\n",
    "    print(\"Turn Around\")\n"
   ]
  },
  {
   "cell_type": "code",
   "execution_count": null,
   "metadata": {},
   "outputs": [],
   "source": []
  }
 ],
 "metadata": {
  "kernelspec": {
   "display_name": "Python 3",
   "language": "python",
   "name": "python3"
  },
  "language_info": {
   "codemirror_mode": {
    "name": "ipython",
    "version": 3
   },
   "file_extension": ".py",
   "mimetype": "text/x-python",
   "name": "python",
   "nbconvert_exporter": "python",
   "pygments_lexer": "ipython3",
   "version": "3.8.3"
  }
 },
 "nbformat": 4,
 "nbformat_minor": 4
}
