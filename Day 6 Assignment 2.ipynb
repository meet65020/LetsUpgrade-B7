{
 "cells": [
  {
   "cell_type": "code",
   "execution_count": 8,
   "metadata": {},
   "outputs": [],
   "source": [
    "import math\n",
    "from math import sqrt\n",
    "\n",
    "class cone():\n",
    "        def __init__(self,r,h):\n",
    "            self.r = r\n",
    "            self.h = h\n",
    "            \n",
    "        def vol_of_cone(self):\n",
    "            volume = float(3.14*self.r*self.r*(self.h/3))\n",
    "            print(\"the volume of cone is\",volume)\n",
    "            \n",
    "        def area_of_cone(self):\n",
    "            base = float(3.14*self.r*self.r)\n",
    "            x = float(sqrt(self.r**2 + self.h**2))\n",
    "            side = float(3.14*self.r*x)\n",
    "            area = float(base * side)\n",
    "            print(\"area of cone is =\",area)"
   ]
  },
  {
   "cell_type": "code",
   "execution_count": 9,
   "metadata": {},
   "outputs": [
    {
     "name": "stdout",
     "output_type": "stream",
     "text": [
      "the volume of cone is 12.56\n",
      "area of cone is = 284.394346844518\n"
     ]
    }
   ],
   "source": [
    "a = cone(2,3)\n",
    "a.vol_of_cone()\n",
    "a.area_of_cone()"
   ]
  },
  {
   "cell_type": "code",
   "execution_count": null,
   "metadata": {},
   "outputs": [],
   "source": []
  }
 ],
 "metadata": {
  "kernelspec": {
   "display_name": "Python 3",
   "language": "python",
   "name": "python3"
  },
  "language_info": {
   "codemirror_mode": {
    "name": "ipython",
    "version": 3
   },
   "file_extension": ".py",
   "mimetype": "text/x-python",
   "name": "python",
   "nbconvert_exporter": "python",
   "pygments_lexer": "ipython3",
   "version": "3.8.3"
  }
 },
 "nbformat": 4,
 "nbformat_minor": 4
}
