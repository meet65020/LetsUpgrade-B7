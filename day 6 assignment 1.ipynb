{
 "cells": [
  {
   "cell_type": "code",
   "execution_count": 2,
   "metadata": {},
   "outputs": [],
   "source": [
    "class bank_aacount():\n",
    "    def __init__(self,ownername,balance = 0):\n",
    "        self.ownername = ownername\n",
    "        self.balance = balance\n",
    "        \n",
    "    \n",
    "    def deposit(self,amount):\n",
    "        self.balance = self.balance + amount\n",
    "        print(\"your current balance is = \",self.balance)\n",
    "    \n",
    "    def withdraw(self,amount):\n",
    "        self.balance = self.balance - amount\n",
    "        print(\"your current balance is = \",self.balance)\n",
    "    "
   ]
  },
  {
   "cell_type": "code",
   "execution_count": 5,
   "metadata": {},
   "outputs": [
    {
     "name": "stdout",
     "output_type": "stream",
     "text": [
      "your current balance is =  200\n",
      "your current balance is =  -100\n",
      "your current balance is =  900\n",
      "your current balance is =  400\n"
     ]
    }
   ],
   "source": [
    "b = bank_aacount(\"meet\")\n",
    "b.deposit(200)\n",
    "b.withdraw(300)\n",
    "b.deposit(1000)\n",
    "b.withdraw(500)"
   ]
  },
  {
   "cell_type": "code",
   "execution_count": null,
   "metadata": {},
   "outputs": [],
   "source": []
  }
 ],
 "metadata": {
  "kernelspec": {
   "display_name": "Python 3",
   "language": "python",
   "name": "python3"
  },
  "language_info": {
   "codemirror_mode": {
    "name": "ipython",
    "version": 3
   },
   "file_extension": ".py",
   "mimetype": "text/x-python",
   "name": "python",
   "nbconvert_exporter": "python",
   "pygments_lexer": "ipython3",
   "version": "3.8.3"
  }
 },
 "nbformat": 4,
 "nbformat_minor": 4
}
